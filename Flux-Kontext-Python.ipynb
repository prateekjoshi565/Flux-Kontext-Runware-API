{
  "nbformat": 4,
  "nbformat_minor": 0,
  "metadata": {
    "colab": {
      "provenance": []
    },
    "kernelspec": {
      "name": "python3",
      "display_name": "Python 3"
    },
    "language_info": {
      "name": "python"
    }
  },
  "cells": [
    {
      "cell_type": "markdown",
      "source": [
        "#Image Editing using Flux.1 Kontext [pro] via Runware API"
      ],
      "metadata": {
        "id": "nSyRWaus2urO"
      }
    },
    {
      "cell_type": "code",
      "execution_count": null,
      "metadata": {
        "id": "dIX_1fWXwAVA"
      },
      "outputs": [],
      "source": [
        "import base64\n",
        "import requests\n",
        "import json\n",
        "from PIL import Image\n",
        "from io import BytesIO\n",
        "from google.colab import userdata"
      ]
    },
    {
      "cell_type": "markdown",
      "source": [
        "## Function to interact with Runware API"
      ],
      "metadata": {
        "id": "dC-QsacM24zn"
      }
    },
    {
      "cell_type": "code",
      "source": [
        "def image_editing(positive_prompt,\n",
        "                  ref_image,\n",
        "                  width=1024, height=1024, # output image dimensions\n",
        "                  model=\"bfl:3@1\", # Flux.1 Kontext [pro] model\n",
        "                  number_results=1):\n",
        "\n",
        "    url = \"https://api.runware.ai/v1\"\n",
        "\n",
        "    # Create the payload\n",
        "    payload = [\n",
        "        {\n",
        "            \"taskType\": \"authentication\",\n",
        "            \"apiKey\": userdata.get('runware_key') # Runware API secret key\n",
        "        },\n",
        "        {\n",
        "            \"taskType\": \"imageInference\",\n",
        "            \"taskUUID\": \"39d7207a-87ef-4c93-8082-1431f9c1dc97\",\n",
        "            \"positivePrompt\": positive_prompt,\n",
        "            \"width\": width,\n",
        "            \"height\": height,\n",
        "            \"referenceImages\": ref_image,\n",
        "            \"model\": model,\n",
        "            \"numberResults\": number_results,\n",
        "            \"includeCost\": True\n",
        "        }\n",
        "    ]\n",
        "\n",
        "    # Set headers\n",
        "    headers = {\n",
        "        \"Content-Type\": \"application/json\"\n",
        "    }\n",
        "\n",
        "    # Make the POST request\n",
        "    response = requests.post(url, headers=headers, data=json.dumps(payload))\n",
        "\n",
        "    # Check if the request was successful\n",
        "    if response.status_code == 200:\n",
        "        return response.json()\n",
        "    else:\n",
        "        print(f\"Error: {response.status_code}\")\n",
        "        print(response.text)\n",
        "        return None"
      ],
      "metadata": {
        "id": "mfNj9rn3wIaB"
      },
      "execution_count": null,
      "outputs": []
    },
    {
      "cell_type": "markdown",
      "source": [
        "## Convert reference image to Base64 string"
      ],
      "metadata": {
        "id": "uf38uePQyHN9"
      }
    },
    {
      "cell_type": "code",
      "source": [
        "# load and display reference/input image (running this cell is optional)\n",
        "img = Image.open('bag-1.jpg')\n",
        "\n",
        "img"
      ],
      "metadata": {
        "id": "PBOrywV1yjpP"
      },
      "execution_count": null,
      "outputs": []
    },
    {
      "cell_type": "code",
      "source": [
        "# function to convert image to Base64 string\n",
        "def image_to_base64(image_path):\n",
        "\n",
        "    with open(image_path, \"rb\") as image_file:\n",
        "        base64_string = base64.b64encode(image_file.read()).decode(\"utf-8\")\n",
        "\n",
        "    return base64_string"
      ],
      "metadata": {
        "id": "7QOXdmM6x9aE"
      },
      "execution_count": null,
      "outputs": []
    },
    {
      "cell_type": "code",
      "source": [
        "# image to Base64 string\n",
        "img_base64_str = image_to_base64(\"bag-1.jpg\")"
      ],
      "metadata": {
        "id": "t9rVy6xzyOQX"
      },
      "execution_count": null,
      "outputs": []
    },
    {
      "cell_type": "code",
      "source": [
        "prompt = \"\"\"\n",
        "The image shows a travel bag placed on a rock in a lush, green forest setting.\n",
        "The background features dense foliage and mist, giving the scene a serene and\n",
        "natural atmosphere.\n",
        "\"\"\"\n",
        "\n",
        "result = image_editing(positive_prompt = prompt,\n",
        "                       ref_image = [img_base64_str])"
      ],
      "metadata": {
        "id": "CLFNYLWIzTnS"
      },
      "execution_count": null,
      "outputs": []
    },
    {
      "cell_type": "code",
      "source": [
        "# check API's response\n",
        "result"
      ],
      "metadata": {
        "id": "awrorQYQ1V_v"
      },
      "execution_count": null,
      "outputs": []
    },
    {
      "cell_type": "markdown",
      "source": [
        "## Display output image"
      ],
      "metadata": {
        "id": "w92iNKdU2V6z"
      }
    },
    {
      "cell_type": "code",
      "source": [
        "# read image from URL\n",
        "response = requests.get(result['data'][0]['imageURL'])\n",
        "output_image = Image.open(BytesIO(response.content))"
      ],
      "metadata": {
        "id": "SdpaMBWL2IyD"
      },
      "execution_count": null,
      "outputs": []
    },
    {
      "cell_type": "code",
      "source": [
        "# display image\n",
        "output_image"
      ],
      "metadata": {
        "id": "pEnctdcw2YVM"
      },
      "execution_count": null,
      "outputs": []
    },
    {
      "cell_type": "code",
      "source": [],
      "metadata": {
        "id": "cgUlsYwX2aPt"
      },
      "execution_count": null,
      "outputs": []
    }
  ]
}